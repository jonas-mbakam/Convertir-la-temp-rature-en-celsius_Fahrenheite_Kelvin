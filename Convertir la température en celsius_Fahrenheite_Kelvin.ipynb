{
 "cells": [
  {
   "cell_type": "code",
   "execution_count": 16,
   "id": "efb4f39e",
   "metadata": {},
   "outputs": [],
   "source": [
    "import math"
   ]
  },
  {
   "cell_type": "code",
   "execution_count": 20,
   "id": "5780a7ef",
   "metadata": {},
   "outputs": [
    {
     "name": "stdout",
     "output_type": "stream",
     "text": [
      "A partir de quelle unité voulez-vous convertir ? : \n",
      " (1)Celsius (2)fahrenheit (3)Kelvin 1\n",
      "Entrer la Temperature: 10\n",
      "Voulez-vous convertir en : \n",
      " (a)fahrenheit (b)Kelvin a\n",
      "La température en fahrenheit est: 50.0 °F\n"
     ]
    }
   ],
   "source": [
    "def Cel_to_Fah_Kel():    \n",
    "    x = float(input(\"Entrer la Temperature: \"))\n",
    "    y = input(\"Voulez-vous convertir en : \\n (a)fahrenheit (b)Kelvin \")\n",
    "    \n",
    "    if y == 'a':\n",
    "        résultat = (x*(9/5)) + 32\n",
    "        print(f\"La température en fahrenheit est: {résultat} °F\")\n",
    "\n",
    "    else:\n",
    "        résultat = x + 273.15\n",
    "        print(f\"La température en kelvin est: {résultat} K\")\n",
    "\n",
    "        \n",
    "\n",
    "def Fah_to_Celsius_Kevin():\n",
    "    x = float(input(\"Entrer la Temperature: \"))\n",
    "    y = input(\"Voulez-vous convertir en: \\n (a)celsius (b)Kelvin \")\n",
    "    \n",
    "    if y == 'a':\n",
    "        résultat = (x - 32)*(5/9)\n",
    "        print(f\"La température en celsius est: {résultat} °C\")\n",
    "\n",
    "\n",
    "    else:\n",
    "        final = (x - 32)*(5/9) + 273.15\n",
    "        print(f\"La température en kelvin  est: {résultat} K\")\n",
    "\n",
    "\n",
    "def Kel_to_Cel_Fah():\n",
    "    x = float(input(\"Enter Temperature: \"))\n",
    "    y = input(\"YVoulez-vous convertir en: \\n (a)celsius (b)fahrenheit \")\n",
    "    \n",
    "    if y == 'a':\n",
    "        résultat = x - 273.15\n",
    "        print(f\"La température en celsius est: {résultat} °C\")\n",
    "\n",
    "    else:\n",
    "        résultat = (x - 273.15)*(5/9) + 32\n",
    "        print(f\"La température en fahrenheit est: {résultat} °F\")\n",
    "\n",
    "\n",
    "\n",
    "\n",
    "def conv_temp():\n",
    "    global t\n",
    "    t = input(\"A partir de quelle unité voulez-vous convertir ? : \\n (1)Celsius (2)fahrenheit (3)Kelvin \")\n",
    "\n",
    "conv_temp()\n",
    "\n",
    "\n",
    "if t == \"1\":\n",
    "    Cel_to_Fah_Kel()\n",
    "\n",
    "elif t == '2':\n",
    "    Fah_to_Celsius_Kevin()\n",
    "\n",
    "elif t == '3':\n",
    "    Kel_to_Cel_Fah()\n",
    "\n",
    "else:\n",
    "    print(\"Entrer une valeur exacte\")\n",
    "    conv_temp()\n",
    "\n"
   ]
  },
  {
   "cell_type": "code",
   "execution_count": null,
   "id": "7b5ba49c",
   "metadata": {},
   "outputs": [],
   "source": []
  }
 ],
 "metadata": {
  "kernelspec": {
   "display_name": "Python 3 (ipykernel)",
   "language": "python",
   "name": "python3"
  },
  "language_info": {
   "codemirror_mode": {
    "name": "ipython",
    "version": 3
   },
   "file_extension": ".py",
   "mimetype": "text/x-python",
   "name": "python",
   "nbconvert_exporter": "python",
   "pygments_lexer": "ipython3",
   "version": "3.11.5"
  }
 },
 "nbformat": 4,
 "nbformat_minor": 5
}
